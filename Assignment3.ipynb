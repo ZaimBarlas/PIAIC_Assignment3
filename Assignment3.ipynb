{
 "cells": [
  {
   "cell_type": "markdown",
   "metadata": {},
   "source": [
    "# Assignmment3"
   ]
  },
  {
   "cell_type": "markdown",
   "metadata": {},
   "source": [
    "## Task1"
   ]
  },
  {
   "cell_type": "code",
   "execution_count": 27,
   "metadata": {},
   "outputs": [
    {
     "name": "stdout",
     "output_type": "stream",
     "text": [
      "enter a key(type:int)45\n",
      "enter value for the key:23\n",
      "updated dictionary is:\n",
      "{45: 23}\n"
     ]
    }
   ],
   "source": [
    "a = int(input(\"enter a key(type:int)\" ))\n",
    "b = int(input(\"enter value for the key:\"))\n",
    "d = {}\n",
    "d.update({a:b})\n",
    "print(\"updated dictionary is:\")\n",
    "print(d)"
   ]
  },
  {
   "cell_type": "markdown",
   "metadata": {},
   "source": [
    "## Task2"
   ]
  },
  {
   "cell_type": "code",
   "execution_count": 28,
   "metadata": {},
   "outputs": [
    {
     "name": "stdout",
     "output_type": "stream",
     "text": [
      " Concatenate dictionary is:\n",
      "{'A': 2, 'B': 6, 'X': 5, 'Y': 9}\n"
     ]
    }
   ],
   "source": [
    "d1 = {'A':2, 'B':6}\n",
    "d2 = {'X':5, 'Y':9}\n",
    "d1.update(d2)\n",
    "print(\" Concatenate dictionary is:\")\n",
    "print(d1)"
   ]
  },
  {
   "cell_type": "markdown",
   "metadata": {},
   "source": [
    "## Task3"
   ]
  },
  {
   "cell_type": "code",
   "execution_count": 30,
   "metadata": {},
   "outputs": [
    {
     "name": "stdout",
     "output_type": "stream",
     "text": [
      "Enter key to check:B\n",
      "key is present and the value of key is:\n",
      "2\n"
     ]
    }
   ],
   "source": [
    "d = {\"A\":1 , \"B\":2 , \"C\":3}\n",
    "key = input(\"Enter key to check:\")\n",
    "if key in d.keys():\n",
    "    print(\"key is present and the value of key is:\")\n",
    "    print(d[key])\n",
    "else:\n",
    "    print(\"key isn't present in the dictionary:\")"
   ]
  },
  {
   "cell_type": "markdown",
   "metadata": {},
   "source": [
    "## Task4 "
   ]
  },
  {
   "cell_type": "code",
   "execution_count": 33,
   "metadata": {},
   "outputs": [
    {
     "name": "stdout",
     "output_type": "stream",
     "text": [
      "Enter a number10\n",
      "{1: 1, 2: 4, 3: 9, 4: 16, 5: 25, 6: 36, 7: 49, 8: 64, 9: 81, 10: 100}\n"
     ]
    }
   ],
   "source": [
    "n = int(input(\"Enter a number\"))\n",
    "\n",
    "dict1 = { i: i*i for i in range(1, n+1)}\n",
    "\n",
    "print(dict1)"
   ]
  },
  {
   "cell_type": "markdown",
   "metadata": {},
   "source": [
    "## Task5 "
   ]
  },
  {
   "cell_type": "code",
   "execution_count": 35,
   "metadata": {},
   "outputs": [
    {
     "name": "stdout",
     "output_type": "stream",
     "text": [
      "Total sum of values in the dictionary:\n",
      "79\n"
     ]
    }
   ],
   "source": [
    "d={'A':10,'B':40,'C':29}\n",
    "print(\"Total sum of values in the dictionary:\")\n",
    "print(sum(d.values()))"
   ]
  },
  {
   "cell_type": "markdown",
   "metadata": {},
   "source": [
    "## Task6 "
   ]
  },
  {
   "cell_type": "code",
   "execution_count": 36,
   "metadata": {},
   "outputs": [
    {
     "name": "stdout",
     "output_type": "stream",
     "text": [
      "6\n",
      "30\n",
      "240\n",
      "480\n"
     ]
    }
   ],
   "source": [
    "d={'A':3,'B':5,'C':8,'D':2}\n",
    "multiplication = 2\n",
    "\n",
    "for val in d.values():\n",
    "    multiplication *= val\n",
    "   \n",
    "    print(multiplication)"
   ]
  },
  {
   "cell_type": "markdown",
   "metadata": {},
   "source": [
    "## Task7 "
   ]
  },
  {
   "cell_type": "code",
   "execution_count": 37,
   "metadata": {},
   "outputs": [
    {
     "name": "stdout",
     "output_type": "stream",
     "text": [
      "Initial dictionary\n",
      "{'a': 1, 'b': 2, 'c': 3, 'd': 4}\n",
      "Enter the key to delete(a-d):d\n",
      "Updated dictionary\n",
      "{'a': 1, 'b': 2, 'c': 3}\n"
     ]
    }
   ],
   "source": [
    "d = {'a':1,'b':2,'c':3,'d':4}\n",
    "print(\"Initial dictionary\")\n",
    "print(d)\n",
    "key=input(\"Enter the key to delete(a-d):\")\n",
    "if key in d: \n",
    "    del d[key]\n",
    "else:\n",
    "    print(\"Key not found!\")\n",
    "    exit(0)\n",
    "print(\"Updated dictionary\")\n",
    "print(d)"
   ]
  },
  {
   "cell_type": "markdown",
   "metadata": {},
   "source": [
    "## Task8 "
   ]
  },
  {
   "cell_type": "code",
   "execution_count": null,
   "metadata": {},
   "outputs": [
    {
     "name": "stdout",
     "output_type": "stream",
     "text": [
      "Enter number of elements for dictionary:4\n",
      "For keys:\n",
      "Enter element1:2\n",
      "Enter element2:4\n",
      "Enter element3:6\n",
      "Enter element4:8\n",
      "For values:\n"
     ]
    }
   ],
   "source": [
    "keys=[]\n",
    "values=[]\n",
    "n=int(input(\"Enter number of elements for dictionary:\"))\n",
    "print(\"For keys:\")\n",
    "for x in range(0,n):\n",
    "    element=int(input(\"Enter element\" + str(x+1) + \":\"))\n",
    "    keys.append(element)\n",
    "print(\"For values:\")\n",
    "for x in range(0,n):\n",
    "    element=int(input(\"Enter element\" + str(x+1) + \":\"))\n",
    "    values.append(element)\n",
    "d=dict(zip(keys,values))\n",
    "print(\"The dictionary is:\")\n",
    "print(d)"
   ]
  },
  {
   "cell_type": "markdown",
   "metadata": {},
   "source": [
    "## Task9 "
   ]
  },
  {
   "cell_type": "code",
   "execution_count": 40,
   "metadata": {},
   "outputs": [
    {
     "name": "stdout",
     "output_type": "stream",
     "text": [
      "Enter string:my name is zaim barlas\n",
      "{'my': 1, 'name': 1, 'is': 1, 'zaim': 1, 'barlas': 1}\n"
     ]
    }
   ],
   "source": [
    "test_string=input(\"Enter string:\")\n",
    "l=[]\n",
    "l=test_string.split()\n",
    "wordfreq=[l.count(p) for p in l]\n",
    "print(dict(zip(l,wordfreq)))"
   ]
  },
  {
   "cell_type": "markdown",
   "metadata": {},
   "source": [
    "## Task10 "
   ]
  },
  {
   "cell_type": "code",
   "execution_count": 41,
   "metadata": {},
   "outputs": [
    {
     "name": "stdout",
     "output_type": "stream",
     "text": [
      "Enter string:my name is zaim barlas\n",
      "m : ['my']\n",
      "n : ['name']\n",
      "i : ['is']\n",
      "z : ['zaim']\n",
      "b : ['barlas']\n"
     ]
    }
   ],
   "source": [
    "test_string=input(\"Enter string:\")\n",
    "l=test_string.split()\n",
    "d={}\n",
    "for word in l:\n",
    "    if(word[0] not in d.keys()):\n",
    "        d[word[0]]=[]\n",
    "        d[word[0]].append(word)\n",
    "    else:\n",
    "        if(word not in d[word[0]]):\n",
    "          d[word[0]].append(word)\n",
    "for k,v in d.items():\n",
    "        print(k,\":\",v)"
   ]
  }
 ],
 "metadata": {
  "kernelspec": {
   "display_name": "Python 3",
   "language": "python",
   "name": "python3"
  },
  "language_info": {
   "codemirror_mode": {
    "name": "ipython",
    "version": 3
   },
   "file_extension": ".py",
   "mimetype": "text/x-python",
   "name": "python",
   "nbconvert_exporter": "python",
   "pygments_lexer": "ipython3",
   "version": "3.7.4"
  }
 },
 "nbformat": 4,
 "nbformat_minor": 2
}
